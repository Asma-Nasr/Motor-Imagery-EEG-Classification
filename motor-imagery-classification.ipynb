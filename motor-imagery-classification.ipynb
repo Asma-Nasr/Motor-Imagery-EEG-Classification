{
 "cells": [
  {
   "cell_type": "code",
   "execution_count": 1,
   "id": "36a32953",
   "metadata": {
    "_cell_guid": "b1076dfc-b9ad-4769-8c92-a6c4dae69d19",
    "_uuid": "8f2839f25d086af736a60e9eeb907d3b93b6e0e5",
    "execution": {
     "iopub.execute_input": "2025-01-05T20:51:25.415695Z",
     "iopub.status.busy": "2025-01-05T20:51:25.415325Z",
     "iopub.status.idle": "2025-01-05T20:51:27.611685Z",
     "shell.execute_reply": "2025-01-05T20:51:27.610088Z"
    },
    "papermill": {
     "duration": 2.204941,
     "end_time": "2025-01-05T20:51:27.614374",
     "exception": false,
     "start_time": "2025-01-05T20:51:25.409433",
     "status": "completed"
    },
    "tags": []
   },
   "outputs": [
    {
     "name": "stderr",
     "output_type": "stream",
     "text": [
      "/opt/conda/lib/python3.10/site-packages/scipy/__init__.py:146: UserWarning: A NumPy version >=1.16.5 and <1.23.0 is required for this version of SciPy (detected version 1.23.5\n",
      "  warnings.warn(f\"A NumPy version >={np_minversion} and <{np_maxversion}\"\n"
     ]
    },
    {
     "name": "stdout",
     "output_type": "stream",
     "text": [
      "/kaggle/input/motorimagery/IRF.npy\n",
      "/kaggle/input/motorimagery/MRF.npy\n",
      "/kaggle/input/motorimagery/MLF.npy\n",
      "/kaggle/input/motorimagery/ILF.npy\n"
     ]
    }
   ],
   "source": [
    "import numpy as np # linear algebra\n",
    "import os\n",
    "from sklearn.model_selection import train_test_split\n",
    "from sklearn.ensemble import RandomForestClassifier\n",
    "from sklearn.metrics import classification_report, confusion_matrix , accuracy_score\n",
    "import seaborn as sns\n",
    "import matplotlib.pyplot as plt\n",
    "for dirname, _, filenames in os.walk('/kaggle/input'):\n",
    "    for filename in filenames:\n",
    "        print(os.path.join(dirname, filename))"
   ]
  },
  {
   "cell_type": "code",
   "execution_count": 2,
   "id": "499c7155",
   "metadata": {
    "execution": {
     "iopub.execute_input": "2025-01-05T20:51:27.623855Z",
     "iopub.status.busy": "2025-01-05T20:51:27.623472Z",
     "iopub.status.idle": "2025-01-05T20:51:27.847481Z",
     "shell.execute_reply": "2025-01-05T20:51:27.846324Z"
    },
    "papermill": {
     "duration": 0.231654,
     "end_time": "2025-01-05T20:51:27.850101",
     "exception": false,
     "start_time": "2025-01-05T20:51:27.618447",
     "status": "completed"
    },
    "tags": []
   },
   "outputs": [],
   "source": [
    "f1=np.load('/kaggle/input/motorimagery/MLF.npy') # Motor left foot\n",
    "f2=np.load('/kaggle/input/motorimagery/MRF.npy') # Motor right foot\n",
    "f3=np.load('/kaggle/input/motorimagery/ILF.npy') # Imagery left foot\n",
    "f4=np.load('/kaggle/input/motorimagery/IRF.npy') # Imagery right foor"
   ]
  },
  {
   "cell_type": "code",
   "execution_count": 3,
   "id": "421e2afe",
   "metadata": {
    "execution": {
     "iopub.execute_input": "2025-01-05T20:51:27.859589Z",
     "iopub.status.busy": "2025-01-05T20:51:27.859173Z",
     "iopub.status.idle": "2025-01-05T20:51:27.864525Z",
     "shell.execute_reply": "2025-01-05T20:51:27.863061Z"
    },
    "papermill": {
     "duration": 0.012557,
     "end_time": "2025-01-05T20:51:27.866718",
     "exception": false,
     "start_time": "2025-01-05T20:51:27.854161",
     "status": "completed"
    },
    "tags": []
   },
   "outputs": [],
   "source": [
    "labels=['Right foot','Left foot']"
   ]
  },
  {
   "cell_type": "code",
   "execution_count": 4,
   "id": "7be3ca57",
   "metadata": {
    "execution": {
     "iopub.execute_input": "2025-01-05T20:51:27.876046Z",
     "iopub.status.busy": "2025-01-05T20:51:27.875686Z",
     "iopub.status.idle": "2025-01-05T20:51:27.887702Z",
     "shell.execute_reply": "2025-01-05T20:51:27.886605Z"
    },
    "papermill": {
     "duration": 0.019699,
     "end_time": "2025-01-05T20:51:27.890358",
     "exception": false,
     "start_time": "2025-01-05T20:51:27.870659",
     "status": "completed"
    },
    "tags": []
   },
   "outputs": [
    {
     "data": {
      "text/plain": [
       "(456, 1121)"
      ]
     },
     "execution_count": 4,
     "metadata": {},
     "output_type": "execute_result"
    }
   ],
   "source": [
    "Features = np.concatenate((f1, f2)) # left and right motor foot EEG (processed and features extracted)\n",
    "Features.shape"
   ]
  },
  {
   "cell_type": "code",
   "execution_count": 5,
   "id": "50f46dbe",
   "metadata": {
    "execution": {
     "iopub.execute_input": "2025-01-05T20:51:27.901390Z",
     "iopub.status.busy": "2025-01-05T20:51:27.900209Z",
     "iopub.status.idle": "2025-01-05T20:51:27.912371Z",
     "shell.execute_reply": "2025-01-05T20:51:27.911045Z"
    },
    "papermill": {
     "duration": 0.020194,
     "end_time": "2025-01-05T20:51:27.914789",
     "exception": false,
     "start_time": "2025-01-05T20:51:27.894595",
     "status": "completed"
    },
    "tags": []
   },
   "outputs": [
    {
     "data": {
      "text/plain": [
       "(456, 1121)"
      ]
     },
     "execution_count": 5,
     "metadata": {},
     "output_type": "execute_result"
    }
   ],
   "source": [
    "TFeatures = np.concatenate((f3, f4)) # left and right imagery foot EEG (processed and features extracted)\n",
    "TFeatures.shape"
   ]
  },
  {
   "cell_type": "markdown",
   "id": "1d85c69b",
   "metadata": {
    "papermill": {
     "duration": 0.003604,
     "end_time": "2025-01-05T20:51:27.922398",
     "exception": false,
     "start_time": "2025-01-05T20:51:27.918794",
     "status": "completed"
    },
    "tags": []
   },
   "source": [
    "## Create labels \n",
    "- **Left foot: -1**\n",
    "- **Right foot: 1**"
   ]
  },
  {
   "cell_type": "code",
   "execution_count": 6,
   "id": "b55ae8c4",
   "metadata": {
    "execution": {
     "iopub.execute_input": "2025-01-05T20:51:27.931794Z",
     "iopub.status.busy": "2025-01-05T20:51:27.931432Z",
     "iopub.status.idle": "2025-01-05T20:51:27.938999Z",
     "shell.execute_reply": "2025-01-05T20:51:27.937971Z"
    },
    "papermill": {
     "duration": 0.014736,
     "end_time": "2025-01-05T20:51:27.941041",
     "exception": false,
     "start_time": "2025-01-05T20:51:27.926305",
     "status": "completed"
    },
    "tags": []
   },
   "outputs": [
    {
     "data": {
      "text/plain": [
       "(456, 1)"
      ]
     },
     "execution_count": 6,
     "metadata": {},
     "output_type": "execute_result"
    }
   ],
   "source": [
    "array1=np.full((228,1),-1)\n",
    "array2=np.full((228,1),1)\n",
    "meraged_array=np.concatenate((array1,array2))\n",
    "meraged_array.shape"
   ]
  },
  {
   "cell_type": "code",
   "execution_count": 7,
   "id": "5ae56ac7",
   "metadata": {
    "execution": {
     "iopub.execute_input": "2025-01-05T20:51:27.950763Z",
     "iopub.status.busy": "2025-01-05T20:51:27.950407Z",
     "iopub.status.idle": "2025-01-05T20:51:27.955581Z",
     "shell.execute_reply": "2025-01-05T20:51:27.954426Z"
    },
    "papermill": {
     "duration": 0.012549,
     "end_time": "2025-01-05T20:51:27.957696",
     "exception": false,
     "start_time": "2025-01-05T20:51:27.945147",
     "status": "completed"
    },
    "tags": []
   },
   "outputs": [],
   "source": [
    "X = Features\n",
    "y = meraged_array"
   ]
  },
  {
   "cell_type": "markdown",
   "id": "6d4afe9e",
   "metadata": {
    "papermill": {
     "duration": 0.003748,
     "end_time": "2025-01-05T20:51:27.965761",
     "exception": false,
     "start_time": "2025-01-05T20:51:27.962013",
     "status": "completed"
    },
    "tags": []
   },
   "source": [
    "## Split the dataset into training and testing sets\n",
    "- **70% training**\n",
    "- **30% Testing**"
   ]
  },
  {
   "cell_type": "code",
   "execution_count": 8,
   "id": "1b0f2cd8",
   "metadata": {
    "execution": {
     "iopub.execute_input": "2025-01-05T20:51:27.975494Z",
     "iopub.status.busy": "2025-01-05T20:51:27.975086Z",
     "iopub.status.idle": "2025-01-05T20:51:27.988462Z",
     "shell.execute_reply": "2025-01-05T20:51:27.987176Z"
    },
    "papermill": {
     "duration": 0.021145,
     "end_time": "2025-01-05T20:51:27.991011",
     "exception": false,
     "start_time": "2025-01-05T20:51:27.969866",
     "status": "completed"
    },
    "tags": []
   },
   "outputs": [],
   "source": [
    "X_train, X_test, y_train, y_test = train_test_split(X, y, test_size=0.3, random_state=42)"
   ]
  },
  {
   "cell_type": "markdown",
   "id": "7b71d96c",
   "metadata": {
    "papermill": {
     "duration": 0.003665,
     "end_time": "2025-01-05T20:51:27.999923",
     "exception": false,
     "start_time": "2025-01-05T20:51:27.996258",
     "status": "completed"
    },
    "tags": []
   },
   "source": [
    "## Random Forest Classifier"
   ]
  },
  {
   "cell_type": "code",
   "execution_count": 9,
   "id": "9c49f9bd",
   "metadata": {
    "execution": {
     "iopub.execute_input": "2025-01-05T20:51:28.009289Z",
     "iopub.status.busy": "2025-01-05T20:51:28.008906Z",
     "iopub.status.idle": "2025-01-05T20:51:28.579680Z",
     "shell.execute_reply": "2025-01-05T20:51:28.578520Z"
    },
    "papermill": {
     "duration": 0.578214,
     "end_time": "2025-01-05T20:51:28.581984",
     "exception": false,
     "start_time": "2025-01-05T20:51:28.003770",
     "status": "completed"
    },
    "tags": []
   },
   "outputs": [
    {
     "name": "stdout",
     "output_type": "stream",
     "text": [
      "Accuracy Score: 0.95\n"
     ]
    }
   ],
   "source": [
    "# Create a Random Forest Classifier\n",
    "rf_classifier = RandomForestClassifier(n_estimators=100, random_state=42)\n",
    "y_train = y_train.ravel()\n",
    "# Fit the model on the training data\n",
    "rf_classifier.fit(X_train, y_train)\n",
    "# Make predictions on the test data\n",
    "y_pred = rf_classifier.predict(X_test)\n",
    "# Calculate the accuracy score\n",
    "accuracy = accuracy_score(y_test, y_pred)\n",
    "print(f'Accuracy Score: {accuracy:.2f}')"
   ]
  },
  {
   "cell_type": "markdown",
   "id": "6333cccd",
   "metadata": {
    "papermill": {
     "duration": 0.003848,
     "end_time": "2025-01-05T20:51:28.590045",
     "exception": false,
     "start_time": "2025-01-05T20:51:28.586197",
     "status": "completed"
    },
    "tags": []
   },
   "source": [
    "## Classification Report"
   ]
  },
  {
   "cell_type": "code",
   "execution_count": 10,
   "id": "2607fd85",
   "metadata": {
    "execution": {
     "iopub.execute_input": "2025-01-05T20:51:28.599937Z",
     "iopub.status.busy": "2025-01-05T20:51:28.599564Z",
     "iopub.status.idle": "2025-01-05T20:51:28.616508Z",
     "shell.execute_reply": "2025-01-05T20:51:28.615279Z"
    },
    "papermill": {
     "duration": 0.024631,
     "end_time": "2025-01-05T20:51:28.618823",
     "exception": false,
     "start_time": "2025-01-05T20:51:28.594192",
     "status": "completed"
    },
    "tags": []
   },
   "outputs": [
    {
     "name": "stdout",
     "output_type": "stream",
     "text": [
      "\n",
      "Classification Report:\n",
      "              precision    recall  f1-score   support\n",
      "\n",
      "          -1       1.00      0.90      0.95        73\n",
      "           1       0.90      1.00      0.95        64\n",
      "\n",
      "    accuracy                           0.95       137\n",
      "   macro avg       0.95      0.95      0.95       137\n",
      "weighted avg       0.95      0.95      0.95       137\n",
      "\n"
     ]
    }
   ],
   "source": [
    "print(\"\\nClassification Report:\")\n",
    "print(classification_report(y_test, y_pred))"
   ]
  },
  {
   "cell_type": "markdown",
   "id": "d9b6b783",
   "metadata": {
    "papermill": {
     "duration": 0.003946,
     "end_time": "2025-01-05T20:51:28.626911",
     "exception": false,
     "start_time": "2025-01-05T20:51:28.622965",
     "status": "completed"
    },
    "tags": []
   },
   "source": [
    "## Confusion Matrix"
   ]
  },
  {
   "cell_type": "code",
   "execution_count": 11,
   "id": "0e1acbd2",
   "metadata": {
    "execution": {
     "iopub.execute_input": "2025-01-05T20:51:28.636697Z",
     "iopub.status.busy": "2025-01-05T20:51:28.636327Z",
     "iopub.status.idle": "2025-01-05T20:51:28.942710Z",
     "shell.execute_reply": "2025-01-05T20:51:28.941591Z"
    },
    "papermill": {
     "duration": 0.313988,
     "end_time": "2025-01-05T20:51:28.944981",
     "exception": false,
     "start_time": "2025-01-05T20:51:28.630993",
     "status": "completed"
    },
    "tags": []
   },
   "outputs": [
    {
     "data": {
      "image/png": "[encoded data removed]",
      "text/plain": [
       "<Figure size 800x600 with 2 Axes>"
      ]
     },
     "metadata": {},
     "output_type": "display_data"
    }
   ],
   "source": [
    "cm = confusion_matrix(y_test, y_pred)\n",
    "plt.figure(figsize=(8, 6))\n",
    "sns.heatmap(cm, annot=True, fmt='d', cmap='Purples', xticklabels=labels, yticklabels=labels)\n",
    "plt.title('Confusion Matrix')\n",
    "plt.xlabel('Predicted Label')\n",
    "plt.ylabel('True Label')\n",
    "plt.show()"
   ]
  }
 ],
 "metadata": {
  "kaggle": {
   "accelerator": "none",
   "dataSources": [
    {
     "datasetId": 3555186,
     "sourceId": 6193290,
     "sourceType": "datasetVersion"
    }
   ],
   "dockerImageVersionId": 30528,
   "isGpuEnabled": false,
   "isInternetEnabled": true,
   "language": "python",
   "sourceType": "notebook"
  },
  "kernelspec": {
   "display_name": "Python 3",
   "language": "python",
   "name": "python3"
  },
  "language_info": {
   "codemirror_mode": {
    "name": "ipython",
    "version": 3
   },
   "file_extension": ".py",
   "mimetype": "text/x-python",
   "name": "python",
   "nbconvert_exporter": "python",
   "pygments_lexer": "ipython3",
   "version": "3.10.12"
  },
  "papermill": {
   "default_parameters": {},
   "duration": 15.267817,
   "end_time": "2025-01-05T20:51:29.973977",
   "environment_variables": {},
   "exception": null,
   "input_path": "__notebook__.ipynb",
   "output_path": "__notebook__.ipynb",
   "parameters": {},
   "start_time": "2025-01-05T20:51:14.706160",
   "version": "2.4.0"
  }
 },
 "nbformat": 4,
 "nbformat_minor": 5
}
